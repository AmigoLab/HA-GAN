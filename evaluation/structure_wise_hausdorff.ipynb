{
 "cells": [
  {
   "cell_type": "code",
   "execution_count": 1,
   "metadata": {},
   "outputs": [],
   "source": [
    "import nibabel as nib\n",
    "import numpy as np\n",
    "import pickle\n",
    "\n",
    "from joblib import Parallel, delayed\n",
    "from scipy.spatial.distance import dice\n",
    "from medpy.metric.binary import hd95"
   ]
  },
  {
   "cell_type": "code",
   "execution_count": 2,
   "metadata": {},
   "outputs": [],
   "source": [
    "idx_dict = {'WM':[2, 41], 'CT':[3, 42], 'LV':[4, 43], 'CW':[7, 46],\n",
    "            'CC':[251,252,253,254,255], 'TH':[10, 49], 'CA':[11, 50],\n",
    "            'PU':[12, 51], 'PA':[13, 52], 'BS':[16], 'HP':[17, 53],\n",
    "            'AM':[18, 54]}\n",
    "\n",
    "idx_list = [2, 3, 4, 7, 251, 10, 11, 12, 13, 16, 17, 18]\n",
    "idx_name_list = ['WM', 'CT', 'LV', 'CW', 'CC', 'TH',\n",
    "                 'CA', 'PU', 'PA', 'BS', 'HP', 'AM']\n",
    "\n",
    "def process_label(img):\n",
    "    for item in idx_dict:\n",
    "        for idx in range(1,len(idx_dict[item])):\n",
    "            img[img==idx_dict[item][idx]] = idx_dict[item][0]\n",
    "    return img"
   ]
  },
  {
   "cell_type": "code",
   "execution_count": 3,
   "metadata": {},
   "outputs": [],
   "source": [
    "import matplotlib.pyplot as plt\n",
    "%matplotlib inline"
   ]
  },
  {
   "cell_type": "markdown",
   "metadata": {},
   "source": [
    "## HA-GAN"
   ]
  },
  {
   "cell_type": "code",
   "execution_count": 4,
   "metadata": {},
   "outputs": [],
   "source": [
    "root_dir = \"/pghbio/dbmi/batmanlab/lisun/pkgs/freesurfer/subjects/\"\n",
    "num_samples = 100\n",
    "model = \"HA_GAN\""
   ]
  },
  {
   "cell_type": "code",
   "execution_count": 8,
   "metadata": {},
   "outputs": [],
   "source": [
    "def calc_hd(i):\n",
    "    result = dict()\n",
    "    if i==86: # Number 86 sample is corrupted\n",
    "        return result\n",
    "    real_img = nib.load(root_dir+\"x_real_\"+str(i)+\".nii/mri/aseg.mgz\")\n",
    "    real_img = real_img.get_fdata()\n",
    "    real_img = process_label(real_img)\n",
    "    try:\n",
    "        recon_img = nib.load(root_dir+\"x_hat_\"+model+\"_\"+str(i)+\".nii/mri/aseg.mgz\")\n",
    "        recon_img = recon_img.get_fdata()\n",
    "        recon_img = process_label(recon_img)\n",
    "    except Exception as e:\n",
    "        print(model, i, \"reconstruction failed\")\n",
    "        return dict()\n",
    "    label_set = set(np.unique(real_img))\n",
    "    label_set.remove(0)\n",
    "    #label_set_total = label_set_total.union(label_set)\n",
    "    for label in label_set:\n",
    "        if label not in idx_list:\n",
    "            continue\n",
    "        real_img_binary = (real_img == label).copy().astype(np.int)\n",
    "        recon_img_binary = (recon_img == label).copy().astype(np.int)\n",
    "        try:\n",
    "            score = hd95(recon_img_binary, real_img_binary)\n",
    "        except Exception:\n",
    "            score = -1\n",
    "        if i not in result:\n",
    "            result[i] = dict()\n",
    "        result[i][label] = score\n",
    "    return result"
   ]
  },
  {
   "cell_type": "code",
   "execution_count": 7,
   "metadata": {},
   "outputs": [],
   "source": [
    "meta_result = Parallel(n_jobs=28)(delayed(calc_hd)(i) for i in range(num_samples))"
   ]
  },
  {
   "cell_type": "code",
   "execution_count": 10,
   "metadata": {},
   "outputs": [],
   "source": [
    "result_matrix = np.ones((num_samples, len(idx_list)))\n",
    "\n",
    "for i in range(num_samples):\n",
    "    if i==86:\n",
    "        continue\n",
    "    for item in meta_result[i][i]:\n",
    "        result_matrix[i, idx_list.index(item)] = meta_result[i][i][item]\n",
    "        \n",
    "result_matrix = np.concatenate([result_matrix[:86,:], result_matrix[87:,:]]) #Num 86 sample is skipped"
   ]
  },
  {
   "cell_type": "code",
   "execution_count": 12,
   "metadata": {},
   "outputs": [
    {
     "name": "stdout",
     "output_type": "stream",
     "text": [
      "Mean Hausdorff95: 3.584540226533997\n"
     ]
    }
   ],
   "source": [
    "print(\"Mean Hausdorff95:\", result_matrix.mean())"
   ]
  },
  {
   "cell_type": "markdown",
   "metadata": {},
   "source": [
    "## Alpha_GAN"
   ]
  },
  {
   "cell_type": "code",
   "execution_count": 13,
   "metadata": {},
   "outputs": [],
   "source": [
    "root_dir = \"/pghbio/dbmi/batmanlab/lisun/pkgs/freesurfer/subjects/\"\n",
    "num_samples = 100\n",
    "model = \"Alpha_GAN\""
   ]
  },
  {
   "cell_type": "code",
   "execution_count": 14,
   "metadata": {},
   "outputs": [],
   "source": [
    "meta_result = Parallel(n_jobs=28)(delayed(calc_hd)(i) for i in range(num_samples))"
   ]
  },
  {
   "cell_type": "code",
   "execution_count": 16,
   "metadata": {},
   "outputs": [
    {
     "name": "stdout",
     "output_type": "stream",
     "text": [
      "Mean Hausdorff95: 6.055151984948203\n"
     ]
    }
   ],
   "source": [
    "result_matrix = np.ones((num_samples, len(idx_list)))\n",
    "\n",
    "for i in range(num_samples):\n",
    "    if i==86:\n",
    "        continue\n",
    "    for item in meta_result[i][i]:\n",
    "        result_matrix[i, idx_list.index(item)] = meta_result[i][i][item]\n",
    "        \n",
    "result_matrix = np.concatenate([result_matrix[:86,:], result_matrix[87:,:]]) #Num 86 sample is skipped\n",
    "\n",
    "print(\"Mean Hausdorff95:\", result_matrix.mean())"
   ]
  },
  {
   "cell_type": "markdown",
   "metadata": {},
   "source": [
    "## VAE-GAN"
   ]
  },
  {
   "cell_type": "code",
   "execution_count": 17,
   "metadata": {},
   "outputs": [],
   "source": [
    "root_dir = \"/pghbio/dbmi/batmanlab/lisun/pkgs/freesurfer/subjects/\"\n",
    "num_samples = 100\n",
    "model = \"VAE_GAN\""
   ]
  },
  {
   "cell_type": "code",
   "execution_count": 18,
   "metadata": {},
   "outputs": [],
   "source": [
    "meta_result = Parallel(n_jobs=28)(delayed(calc_hd)(i) for i in range(num_samples))"
   ]
  },
  {
   "cell_type": "code",
   "execution_count": 19,
   "metadata": {},
   "outputs": [],
   "source": [
    "pickle.dump(meta_result, open( \"./results/recon_hd95_small_\"+model+\".pkl\", \"wb\" ) )\n",
    "#meta_result = pickle.load(open( \"./results/recon_dc_small_\"+model+\".pkl\", \"rb\" ) )"
   ]
  },
  {
   "cell_type": "code",
   "execution_count": 20,
   "metadata": {},
   "outputs": [
    {
     "name": "stdout",
     "output_type": "stream",
     "text": [
      "Mean Hausdorff95: 5.869015258986398\n"
     ]
    }
   ],
   "source": [
    "result_matrix = np.ones((num_samples, len(idx_list)))\n",
    "\n",
    "for i in range(num_samples):\n",
    "    if i==86:\n",
    "        continue\n",
    "    for item in meta_result[i][i]:\n",
    "        result_matrix[i, idx_list.index(item)] = meta_result[i][i][item]\n",
    "        \n",
    "result_matrix = np.concatenate([result_matrix[:86,:], result_matrix[87:,:]]) #Num 86 sample is skipped\n",
    "\n",
    "print(\"Mean Hausdorff95:\", result_matrix.mean())"
   ]
  },
  {
   "cell_type": "code",
   "execution_count": 30,
   "metadata": {},
   "outputs": [
    {
     "data": {
      "text/html": [
       "<div>\n",
       "<style scoped>\n",
       "    .dataframe tbody tr th:only-of-type {\n",
       "        vertical-align: middle;\n",
       "    }\n",
       "\n",
       "    .dataframe tbody tr th {\n",
       "        vertical-align: top;\n",
       "    }\n",
       "\n",
       "    .dataframe thead th {\n",
       "        text-align: right;\n",
       "    }\n",
       "</style>\n",
       "<table border=\"1\" class=\"dataframe\">\n",
       "  <thead>\n",
       "    <tr style=\"text-align: right;\">\n",
       "      <th></th>\n",
       "      <th>WM</th>\n",
       "      <th>CT</th>\n",
       "      <th>LV</th>\n",
       "      <th>CW</th>\n",
       "      <th>CC</th>\n",
       "      <th>TH</th>\n",
       "      <th>CA</th>\n",
       "      <th>PU</th>\n",
       "      <th>PA</th>\n",
       "      <th>BS</th>\n",
       "      <th>HP</th>\n",
       "      <th>AM</th>\n",
       "      <th>Model</th>\n",
       "    </tr>\n",
       "  </thead>\n",
       "  <tbody>\n",
       "    <tr>\n",
       "      <th>0</th>\n",
       "      <td>0.613255</td>\n",
       "      <td>0.304320</td>\n",
       "      <td>0.509278</td>\n",
       "      <td>0.666590</td>\n",
       "      <td>0.242015</td>\n",
       "      <td>0.525623</td>\n",
       "      <td>0.310227</td>\n",
       "      <td>0.415053</td>\n",
       "      <td>0.258915</td>\n",
       "      <td>0.678573</td>\n",
       "      <td>0.368489</td>\n",
       "      <td>0.240815</td>\n",
       "      <td>VAE_GAN</td>\n",
       "    </tr>\n",
       "    <tr>\n",
       "      <th>1</th>\n",
       "      <td>0.574613</td>\n",
       "      <td>0.264211</td>\n",
       "      <td>0.465233</td>\n",
       "      <td>0.730067</td>\n",
       "      <td>0.168053</td>\n",
       "      <td>0.628524</td>\n",
       "      <td>0.313432</td>\n",
       "      <td>0.489189</td>\n",
       "      <td>0.381626</td>\n",
       "      <td>0.809380</td>\n",
       "      <td>0.330128</td>\n",
       "      <td>0.257928</td>\n",
       "      <td>VAE_GAN</td>\n",
       "    </tr>\n",
       "    <tr>\n",
       "      <th>2</th>\n",
       "      <td>0.663194</td>\n",
       "      <td>0.350753</td>\n",
       "      <td>0.483893</td>\n",
       "      <td>0.759407</td>\n",
       "      <td>0.606751</td>\n",
       "      <td>0.753094</td>\n",
       "      <td>0.577498</td>\n",
       "      <td>0.697566</td>\n",
       "      <td>0.717332</td>\n",
       "      <td>0.868807</td>\n",
       "      <td>0.571655</td>\n",
       "      <td>0.698656</td>\n",
       "      <td>VAE_GAN</td>\n",
       "    </tr>\n",
       "    <tr>\n",
       "      <th>3</th>\n",
       "      <td>0.635759</td>\n",
       "      <td>0.330399</td>\n",
       "      <td>0.415927</td>\n",
       "      <td>0.800922</td>\n",
       "      <td>0.305294</td>\n",
       "      <td>0.753046</td>\n",
       "      <td>0.571885</td>\n",
       "      <td>0.588992</td>\n",
       "      <td>0.515859</td>\n",
       "      <td>0.844726</td>\n",
       "      <td>0.693712</td>\n",
       "      <td>0.378111</td>\n",
       "      <td>VAE_GAN</td>\n",
       "    </tr>\n",
       "    <tr>\n",
       "      <th>4</th>\n",
       "      <td>0.652373</td>\n",
       "      <td>0.338269</td>\n",
       "      <td>0.464974</td>\n",
       "      <td>0.707906</td>\n",
       "      <td>0.412092</td>\n",
       "      <td>0.806826</td>\n",
       "      <td>0.598583</td>\n",
       "      <td>0.589440</td>\n",
       "      <td>0.604779</td>\n",
       "      <td>0.806715</td>\n",
       "      <td>0.657584</td>\n",
       "      <td>0.520129</td>\n",
       "      <td>VAE_GAN</td>\n",
       "    </tr>\n",
       "  </tbody>\n",
       "</table>\n",
       "</div>"
      ],
      "text/plain": [
       "         WM        CT        LV        CW        CC        TH        CA  \\\n",
       "0  0.613255  0.304320  0.509278  0.666590  0.242015  0.525623  0.310227   \n",
       "1  0.574613  0.264211  0.465233  0.730067  0.168053  0.628524  0.313432   \n",
       "2  0.663194  0.350753  0.483893  0.759407  0.606751  0.753094  0.577498   \n",
       "3  0.635759  0.330399  0.415927  0.800922  0.305294  0.753046  0.571885   \n",
       "4  0.652373  0.338269  0.464974  0.707906  0.412092  0.806826  0.598583   \n",
       "\n",
       "         PU        PA        BS        HP        AM    Model  \n",
       "0  0.415053  0.258915  0.678573  0.368489  0.240815  VAE_GAN  \n",
       "1  0.489189  0.381626  0.809380  0.330128  0.257928  VAE_GAN  \n",
       "2  0.697566  0.717332  0.868807  0.571655  0.698656  VAE_GAN  \n",
       "3  0.588992  0.515859  0.844726  0.693712  0.378111  VAE_GAN  \n",
       "4  0.589440  0.604779  0.806715  0.657584  0.520129  VAE_GAN  "
      ]
     },
     "execution_count": 30,
     "metadata": {},
     "output_type": "execute_result"
    }
   ],
   "source": [
    "result_matrix_pd = pd.DataFrame(data=result_matrix, columns=idx_name_list)\n",
    "result_matrix_pd['Model']=model\n",
    "result_matrix_pd.head()"
   ]
  },
  {
   "cell_type": "markdown",
   "metadata": {},
   "source": [
    "### Summary"
   ]
  },
  {
   "cell_type": "code",
   "execution_count": 5,
   "metadata": {},
   "outputs": [],
   "source": [
    "import pandas as pd\n",
    "import seaborn as sns"
   ]
  },
  {
   "cell_type": "code",
   "execution_count": 6,
   "metadata": {},
   "outputs": [],
   "source": [
    "result_matrix_pd_list = []\n",
    "\n",
    "for model in [\"HA_GAN\", \"Alpha_GAN\", \"VAE_GAN\"]:\n",
    "    meta_result = pickle.load(open( \"./results/recon_hd95_small_\"+model+\".pkl\", \"rb\" ) )\n",
    "    result_matrix = np.ones((num_samples, len(idx_list)))\n",
    "    for i in range(num_samples):\n",
    "        if i==86:\n",
    "            continue\n",
    "        for item in meta_result[i][i]:\n",
    "            result_matrix[i, idx_list.index(item)] = meta_result[i][i][item]\n",
    "    result_matrix = np.concatenate([result_matrix[:86,:], result_matrix[87:,:]]) #Num 86 sample is skipped\n",
    "    for i in range(len(idx_list)):\n",
    "        result_matrix_sub = result_matrix[:,i]\n",
    "        result_matrix_sub_pd = pd.DataFrame(data=result_matrix_sub, columns=['Overlap(Hausdorff95)'])\n",
    "        result_matrix_sub_pd['Model']=model.replace('_', '-')\n",
    "        result_matrix_sub_pd['Structure']=idx_name_list[i]\n",
    "        result_matrix_pd_list.append(result_matrix_sub_pd.copy())"
   ]
  },
  {
   "cell_type": "code",
   "execution_count": 7,
   "metadata": {},
   "outputs": [],
   "source": [
    "result_matrix_pd_list = pd.concat(result_matrix_pd_list)"
   ]
  },
  {
   "cell_type": "code",
   "execution_count": 9,
   "metadata": {},
   "outputs": [
    {
     "data": {
      "image/png": "[encoded data removed]",
      "text/plain": [
       "<Figure size 720x432 with 1 Axes>"
      ]
     },
     "metadata": {
      "needs_background": "light"
     },
     "output_type": "display_data"
    }
   ],
   "source": [
    "plt.figure(figsize=(10,6))\n",
    "b=sns.boxplot(x=\"Structure\", y='Overlap(Hausdorff95)', hue=\"Model\", data=result_matrix_pd_list[result_matrix_pd_list['Overlap(Hausdorff95)']<20], palette=\"Set1\")\n",
    "#sns.plt.show()\n",
    "\n",
    "b.set_xlabel(\"Structure\",fontsize=14)\n",
    "b.set_ylabel(\"Overlap(Hausdorff95)\",fontsize=14)\n",
    "b.set_xticklabels(b.get_xmajorticklabels(), fontsize = 14)\n",
    "#b.set_yticklabels(b.get_ymajorticklabels(), fontsize = 10)\n",
    "#sns.plt.show()\n",
    "plt.savefig(\"./results/recon_hd95.pdf\", bbox_inches='tight')"
   ]
  }
 ],
 "metadata": {
  "kernelspec": {
   "display_name": "Python 3",
   "language": "python",
   "name": "python3"
  },
  "language_info": {
   "codemirror_mode": {
    "name": "ipython",
    "version": 3
   },
   "file_extension": ".py",
   "mimetype": "text/x-python",
   "name": "python",
   "nbconvert_exporter": "python",
   "pygments_lexer": "ipython3",
   "version": "3.6.5"
  },
  "toc": {
   "base_numbering": 1,
   "nav_menu": {},
   "number_sections": true,
   "sideBar": true,
   "skip_h1_title": false,
   "title_cell": "Table of Contents",
   "title_sidebar": "Contents",
   "toc_cell": false,
   "toc_position": {},
   "toc_section_display": true,
   "toc_window_display": false
  }
 },
 "nbformat": 4,
 "nbformat_minor": 4
}
