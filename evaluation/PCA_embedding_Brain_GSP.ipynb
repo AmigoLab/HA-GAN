{
 "cells": [
  {
   "cell_type": "code",
   "execution_count": 1,
   "metadata": {},
   "outputs": [],
   "source": [
    "import torch\n",
    "import torch.nn as nn\n",
    "from torch.nn import functional as F\n",
    "\n",
    "import numpy as np\n",
    "from utils import trim_state_dict_name, Flatten\n",
    "from torch.autograd import Variable\n",
    "\n",
    "from resnet3D import resnet50\n",
    "\n",
    "torch.manual_seed(0)\n",
    "torch.cuda.manual_seed_all(0)\n",
    "torch.backends.cudnn.benchmark = True"
   ]
  },
  {
   "cell_type": "code",
   "execution_count": 2,
   "metadata": {},
   "outputs": [],
   "source": [
    "import matplotlib.pyplot as plt\n",
    "%matplotlib inline\n",
    "from sklearn.decomposition import PCA"
   ]
  },
  {
   "cell_type": "code",
   "execution_count": 3,
   "metadata": {},
   "outputs": [
    {
     "name": "stdout",
     "output_type": "stream",
     "text": [
      "Feature extractor weights loaded\n"
     ]
    }
   ],
   "source": [
    "def get_feature_extractor():\n",
    "    model = resnet50(shortcut_type='B')\n",
    "    model.conv_seg = nn.Sequential(nn.AdaptiveAvgPool3d((1, 1, 1)),\n",
    "                                   Flatten()) # (N, 512)\n",
    "    # checkpoint resnet_50.pth comes from https://github.com/Tencent/MedicalNet\n",
    "    ckpt = torch.load(\"../gnn/ckpt/pretrain/resnet_50.pth\")\n",
    "    ckpt = trim_state_dict_name(ckpt[\"state_dict\"])\n",
    "    model.load_state_dict(ckpt)\n",
    "    model = nn.DataParallel(model).cuda()\n",
    "    model.eval()\n",
    "    print(\"Feature extractor weights loaded\")\n",
    "    return model\n",
    "\n",
    "model = get_feature_extractor()"
   ]
  },
  {
   "cell_type": "code",
   "execution_count": 3,
   "metadata": {},
   "outputs": [],
   "source": [
    "save_step = 78000\n",
    "batch_size = 2\n",
    "img_size = 256\n",
    "num_samples=500\n",
    "dims=2048"
   ]
  },
  {
   "cell_type": "markdown",
   "metadata": {},
   "source": [
    "## HA-GAN"
   ]
  },
  {
   "cell_type": "code",
   "execution_count": 4,
   "metadata": {},
   "outputs": [],
   "source": [
    "from Model_Alpha_GAN_256_SN_GN_v4_4_eval import Generator, Encoder, Sub_Encoder\n",
    "\n",
    "latent_dim = 1024\n",
    "basename = \"256_1024_HA_GAN_Brain_GSP\""
   ]
  },
  {
   "cell_type": "code",
   "execution_count": 5,
   "metadata": {},
   "outputs": [
    {
     "name": "stdout",
     "output_type": "stream",
     "text": [
      "78000 step weights loaded.\n"
     ]
    }
   ],
   "source": [
    "G = Generator(noise=latent_dim, mode=\"eval\")\n",
    "\n",
    "ckpt_path = \"./checkpoint/\"+basename+\"/G_iter\"+str(save_step)+\".pth\"\n",
    "ckpt = torch.load(ckpt_path)\n",
    "ckpt = trim_state_dict_name(ckpt)\n",
    "G.load_state_dict(ckpt)\n",
    "\n",
    "print(save_step, \"step weights loaded.\")\n",
    "del ckpt\n",
    "\n",
    "G = nn.DataParallel(G).cuda()\n",
    "G.eval()\n",
    "\n",
    "torch.cuda.empty_cache()"
   ]
  },
  {
   "cell_type": "code",
   "execution_count": 6,
   "metadata": {},
   "outputs": [
    {
     "name": "stdout",
     "output_type": "stream",
     "text": [
      "Propagating batch 240"
     ]
    }
   ],
   "source": [
    "pred_arr = np.empty((num_samples, dims))\n",
    "\n",
    "for i in range(num_samples//batch_size):\n",
    "    if i % 10 == 0:\n",
    "        print('\\rPropagating batch %d' % i, end='', flush=True)\n",
    "    with torch.no_grad():\n",
    "        noise = torch.randn((batch_size, latent_dim)).cuda()\n",
    "        x_rand = G(noise, 0) # dumb index 0, not used\n",
    "        x_rand = x_rand.detach()\n",
    "        pred = model(x_rand)\n",
    "\n",
    "    if (i+1)*batch_size > pred_arr.shape[0]:\n",
    "        pred_arr[i*batch_size:] = pred.cpu().numpy()\n",
    "    else:\n",
    "        pred_arr[i*batch_size:(i+1)*batch_size] = pred.cpu().numpy()"
   ]
  },
  {
   "cell_type": "code",
   "execution_count": 7,
   "metadata": {},
   "outputs": [],
   "source": [
    "np.save(\"./results/pred_arr_GSP_HA_GAN.npy\", pred_arr)"
   ]
  },
  {
   "cell_type": "markdown",
   "metadata": {},
   "source": [
    "## HA-GAN w/o Encoder"
   ]
  },
  {
   "cell_type": "code",
   "execution_count": 4,
   "metadata": {},
   "outputs": [],
   "source": [
    "from Model_HA_GAN_wo_Encoder import Generator\n",
    "\n",
    "latent_dim = 1000\n",
    "basename = \"256_1000_HA_GAN_wo_Encoder\""
   ]
  },
  {
   "cell_type": "code",
   "execution_count": 5,
   "metadata": {},
   "outputs": [
    {
     "name": "stdout",
     "output_type": "stream",
     "text": [
      "78000 step weights loaded.\n"
     ]
    }
   ],
   "source": [
    "G = Generator(noise=latent_dim, mode=\"eval\")\n",
    "\n",
    "ckpt_path = \"./checkpoint/\"+basename+\"/G_iter\"+str(save_step)+\".pth\"\n",
    "ckpt = torch.load(ckpt_path)\n",
    "ckpt = trim_state_dict_name(ckpt)\n",
    "G.load_state_dict(ckpt)\n",
    "\n",
    "print(save_step, \"step weights loaded.\")\n",
    "del ckpt\n",
    "\n",
    "G = nn.DataParallel(G).cuda()\n",
    "G.eval()\n",
    "\n",
    "torch.cuda.empty_cache()"
   ]
  },
  {
   "cell_type": "code",
   "execution_count": 6,
   "metadata": {},
   "outputs": [
    {
     "name": "stdout",
     "output_type": "stream",
     "text": [
      "Propagating batch 240"
     ]
    }
   ],
   "source": [
    "pred_arr = np.empty((num_samples, dims))\n",
    "\n",
    "for i in range(num_samples//batch_size):\n",
    "    if i % 10 == 0:\n",
    "        print('\\rPropagating batch %d' % i, end='', flush=True)\n",
    "    with torch.no_grad():\n",
    "        noise = torch.randn((batch_size, latent_dim)).cuda()\n",
    "        x_rand = G(noise, 0) # dumb index 0, not used\n",
    "        x_rand = x_rand.detach()\n",
    "        pred = model(x_rand)\n",
    "\n",
    "    if (i+1)*batch_size > pred_arr.shape[0]:\n",
    "        pred_arr[i*batch_size:] = pred.cpu().numpy()\n",
    "    else:\n",
    "        pred_arr[i*batch_size:(i+1)*batch_size] = pred.cpu().numpy()"
   ]
  },
  {
   "cell_type": "code",
   "execution_count": 7,
   "metadata": {},
   "outputs": [],
   "source": [
    "np.save(\"./results/pred_arr_GSP_HA_GAN_wo_Encoder.npy\", pred_arr)"
   ]
  },
  {
   "cell_type": "markdown",
   "metadata": {},
   "source": [
    "## Real"
   ]
  },
  {
   "cell_type": "code",
   "execution_count": 13,
   "metadata": {},
   "outputs": [
    {
     "name": "stdout",
     "output_type": "stream",
     "text": [
      "Dataset size: 500\n"
     ]
    }
   ],
   "source": [
    "from Brain_dataset_GSP_slim import Brain_dataset\n",
    "\n",
    "trainset = Brain_dataset(img_size=img_size, stage=\"eval\")\n",
    "train_loader = torch.utils.data.DataLoader(trainset,batch_size=batch_size,drop_last=False,\n",
    "                                              shuffle=False,num_workers=4)\n",
    "dataloader_iterator = iter(train_loader)"
   ]
  },
  {
   "cell_type": "code",
   "execution_count": 14,
   "metadata": {},
   "outputs": [
    {
     "name": "stdout",
     "output_type": "stream",
     "text": [
      "Propagating batch 240"
     ]
    }
   ],
   "source": [
    "pred_arr = np.empty((num_samples, dims))\n",
    "\n",
    "for i in range(num_samples//batch_size):\n",
    "    if i % 10 == 0:\n",
    "        print('\\rPropagating batch %d' % i, end='', flush=True)\n",
    "    batch = next(dataloader_iterator).float().cuda()\n",
    "    with torch.no_grad():\n",
    "        pred = model(batch)\n",
    "\n",
    "    if i*batch_size > pred_arr.shape[0]:\n",
    "        pred_arr[i*batch_size:] = pred.cpu().numpy()\n",
    "    else:\n",
    "        pred_arr[i*batch_size:(i+1)*batch_size] = pred.cpu().numpy()"
   ]
  },
  {
   "cell_type": "code",
   "execution_count": 15,
   "metadata": {},
   "outputs": [],
   "source": [
    "np.save(\"./results/pred_arr_GSP_Real.npy\", pred_arr)"
   ]
  },
  {
   "cell_type": "markdown",
   "metadata": {},
   "source": [
    "## Real_train"
   ]
  },
  {
   "cell_type": "code",
   "execution_count": 10,
   "metadata": {},
   "outputs": [
    {
     "name": "stdout",
     "output_type": "stream",
     "text": [
      "Dataset size: 3036\n"
     ]
    }
   ],
   "source": [
    "from Brain_dataset_GSP_slim import Brain_dataset\n",
    "\n",
    "trainset = Brain_dataset(img_size=img_size, stage=\"train\")\n",
    "train_loader = torch.utils.data.DataLoader(trainset,batch_size=batch_size,drop_last=False,\n",
    "                                              shuffle=True,num_workers=4)\n",
    "dataloader_iterator = iter(train_loader)"
   ]
  },
  {
   "cell_type": "code",
   "execution_count": 11,
   "metadata": {},
   "outputs": [
    {
     "name": "stdout",
     "output_type": "stream",
     "text": [
      "Propagating batch 240"
     ]
    }
   ],
   "source": [
    "pred_arr = np.empty((num_samples, dims))\n",
    "\n",
    "for i in range(num_samples//batch_size):\n",
    "    if i % 10 == 0:\n",
    "        print('\\rPropagating batch %d' % i, end='', flush=True)\n",
    "    batch = next(dataloader_iterator).float().cuda()\n",
    "    with torch.no_grad():\n",
    "        pred = model(batch)\n",
    "\n",
    "    if i*batch_size > pred_arr.shape[0]:\n",
    "        pred_arr[i*batch_size:] = pred.cpu().numpy()\n",
    "    else:\n",
    "        pred_arr[i*batch_size:(i+1)*batch_size] = pred.cpu().numpy()"
   ]
  },
  {
   "cell_type": "code",
   "execution_count": 12,
   "metadata": {},
   "outputs": [],
   "source": [
    "np.save(\"./results/pred_arr_GSP_Real_train.npy\", pred_arr)"
   ]
  },
  {
   "cell_type": "markdown",
   "metadata": {},
   "source": [
    "## Alpha GAN"
   ]
  },
  {
   "cell_type": "code",
   "execution_count": 5,
   "metadata": {},
   "outputs": [],
   "source": [
    "from Model_alphaWGAN_128 import Generator, Discriminator\n",
    "\n",
    "latent_dim = 1000\n",
    "basename = \"128_1000_Alpha_WGAN_baseline_GSP\""
   ]
  },
  {
   "cell_type": "code",
   "execution_count": 6,
   "metadata": {},
   "outputs": [],
   "source": [
    "G = Generator(noise=latent_dim)\n",
    "ckpt_path = \"./checkpoint/\"+basename+\"/G_iter\"+str(save_step)+\".pth\"\n",
    "ckpt = torch.load(ckpt_path)\n",
    "ckpt = trim_state_dict_name(ckpt)\n",
    "G.load_state_dict(ckpt)\n",
    "\n",
    "E = Discriminator(out_class = latent_dim, is_dis=False)\n",
    "ckpt_path = \"./checkpoint/\"+basename+\"/E_iter\"+str(save_step)+\".pth\"\n",
    "ckpt = torch.load(ckpt_path)\n",
    "ckpt = trim_state_dict_name(ckpt)\n",
    "E.load_state_dict(ckpt)\n",
    "\n",
    "del ckpt\n",
    "\n",
    "G = nn.DataParallel(G).cuda()\n",
    "E = nn.DataParallel(E).cuda()\n",
    "\n",
    "G.eval()\n",
    "E.eval()"
   ]
  },
  {
   "cell_type": "code",
   "execution_count": 7,
   "metadata": {},
   "outputs": [
    {
     "name": "stdout",
     "output_type": "stream",
     "text": [
      "Propagating batch 240"
     ]
    }
   ],
   "source": [
    "pred_arr = np.empty((num_samples, dims))\n",
    "\n",
    "for i in range(num_samples//batch_size):\n",
    "    if i % 10 == 0:\n",
    "        print('\\rPropagating batch %d' % i, end='', flush=True)\n",
    "    with torch.no_grad():\n",
    "        noise = torch.randn((batch_size, latent_dim)).cuda()\n",
    "        x_rand = G(noise)\n",
    "        x_rand = x_rand.detach()\n",
    "        x_rand = F.interpolate(x_rand, scale_factor = 2)\n",
    "        pred = model(x_rand)\n",
    "    if (i+1)*batch_size > pred_arr.shape[0]:\n",
    "        pred_arr[i*batch_size:] = pred.cpu().numpy()\n",
    "    else:\n",
    "        pred_arr[i*batch_size:(i+1)*batch_size] = pred.cpu().numpy()"
   ]
  },
  {
   "cell_type": "code",
   "execution_count": 8,
   "metadata": {},
   "outputs": [],
   "source": [
    "np.save(\"./results/pred_arr_GSP_baseline_Alpha_GAN.npy\", pred_arr)"
   ]
  },
  {
   "cell_type": "markdown",
   "metadata": {},
   "source": [
    "## VAE-GAN"
   ]
  },
  {
   "cell_type": "code",
   "execution_count": 5,
   "metadata": {},
   "outputs": [],
   "source": [
    "from Model_VAEGAN import Encoder, Generator\n",
    "\n",
    "latent_dim = 1000\n",
    "basename = \"128_1000_VAE_GAN_GSP\""
   ]
  },
  {
   "cell_type": "code",
   "execution_count": 9,
   "metadata": {},
   "outputs": [],
   "source": [
    "G = Generator(noise=latent_dim)\n",
    "ckpt_path = \"./checkpoint/\"+basename+\"/G_iter\"+str(save_step)+\".pth\"\n",
    "ckpt = torch.load(ckpt_path)\n",
    "ckpt = trim_state_dict_name(ckpt)\n",
    "G.load_state_dict(ckpt)\n",
    "\n",
    "E = Encoder(latent_size=latent_dim)\n",
    "ckpt_path = \"./checkpoint/\"+basename+\"/E_iter\"+str(save_step)+\".pth\"\n",
    "ckpt = torch.load(ckpt_path)\n",
    "ckpt = trim_state_dict_name(ckpt)\n",
    "E.load_state_dict(ckpt)\n",
    "\n",
    "del ckpt\n",
    "G = nn.DataParallel(G).cuda()\n",
    "E = nn.DataParallel(E).cuda()\n",
    "G.eval()\n",
    "E.eval()"
   ]
  },
  {
   "cell_type": "code",
   "execution_count": 7,
   "metadata": {},
   "outputs": [
    {
     "name": "stdout",
     "output_type": "stream",
     "text": [
      "Propagating batch 240"
     ]
    }
   ],
   "source": [
    "pred_arr = np.empty((num_samples, dims))\n",
    "\n",
    "for i in range(num_samples//batch_size):\n",
    "    if i % 10 == 0:\n",
    "        print('\\rPropagating batch %d' % i, end='', flush=True)\n",
    "    with torch.no_grad():\n",
    "        code = torch.randn((batch_size, latent_dim)).cuda()\n",
    "        x_hat = G(code)\n",
    "        x_hat = x_hat.detach()\n",
    "        x_hat = F.interpolate(x_hat, scale_factor = 2)\n",
    "        pred = model(x_hat)\n",
    "\n",
    "    if (i+1)*batch_size > pred_arr.shape[0]:\n",
    "        pred_arr[i*batch_size:] = pred.cpu().numpy()\n",
    "    else:\n",
    "        pred_arr[i*batch_size:(i+1)*batch_size] = pred.cpu().numpy()"
   ]
  },
  {
   "cell_type": "code",
   "execution_count": 8,
   "metadata": {},
   "outputs": [],
   "source": [
    "np.save(\"./results/pred_arr_GSP_baseline_VAEGAN.npy\", pred_arr)"
   ]
  },
  {
   "cell_type": "markdown",
   "metadata": {},
   "source": [
    "## WGAN"
   ]
  },
  {
   "cell_type": "code",
   "execution_count": 5,
   "metadata": {},
   "outputs": [],
   "source": [
    "from Model_WGAN_128 import Generator\n",
    "\n",
    "latent_dim = 1024\n",
    "basename = \"128_1024_WGAN_baseline_Brain_GSP\""
   ]
  },
  {
   "cell_type": "code",
   "execution_count": 11,
   "metadata": {},
   "outputs": [],
   "source": [
    "G = Generator(noise=latent_dim)\n",
    "ckpt_path = \"./checkpoint/\"+basename+\"/G_iter\"+str(save_step)+\".pth\"\n",
    "ckpt = torch.load(ckpt_path)\n",
    "ckpt = trim_state_dict_name(ckpt)\n",
    "G.load_state_dict(ckpt)\n",
    "\n",
    "del ckpt\n",
    "\n",
    "G = nn.DataParallel(G).cuda()\n",
    "\n",
    "G.eval()"
   ]
  },
  {
   "cell_type": "code",
   "execution_count": 7,
   "metadata": {},
   "outputs": [
    {
     "name": "stdout",
     "output_type": "stream",
     "text": [
      "Propagating batch 240"
     ]
    }
   ],
   "source": [
    "pred_arr = np.empty((num_samples, dims))\n",
    "\n",
    "for i in range(num_samples//batch_size):\n",
    "    if i % 10 == 0:\n",
    "        print('\\rPropagating batch %d' % i, end='', flush=True)\n",
    "    with torch.no_grad():\n",
    "        noise = torch.randn((batch_size, latent_dim)).cuda()\n",
    "        x_rand = G(noise)\n",
    "        x_rand = x_rand.detach()\n",
    "        x_rand = F.interpolate(x_rand, scale_factor = 2)\n",
    "        pred = model(x_rand)\n",
    "    if (i+1)*batch_size > pred_arr.shape[0]:\n",
    "        pred_arr[i*batch_size:] = pred.cpu().numpy()\n",
    "    else:\n",
    "        pred_arr[i*batch_size:(i+1)*batch_size] = pred.cpu().numpy()"
   ]
  },
  {
   "cell_type": "code",
   "execution_count": 8,
   "metadata": {},
   "outputs": [],
   "source": [
    "np.save(\"./results/pred_arr_GSP_baseline_WGAN.npy\", pred_arr)"
   ]
  },
  {
   "cell_type": "markdown",
   "metadata": {},
   "source": [
    "## Progressive GAN"
   ]
  },
  {
   "cell_type": "code",
   "execution_count": 5,
   "metadata": {},
   "outputs": [],
   "source": [
    "import SimpleITK as sitk\n",
    "\n",
    "RESULT_DIR = \"./progressivegan3d/results/GSP_128_v4data/\"\n",
    "\n",
    "def load_img(path):\n",
    "    img = sitk.ReadImage(path)\n",
    "    img = sitk.GetArrayFromImage(img)\n",
    "    img = img/255.*2.-1\n",
    "    return img"
   ]
  },
  {
   "cell_type": "code",
   "execution_count": 6,
   "metadata": {},
   "outputs": [
    {
     "name": "stdout",
     "output_type": "stream",
     "text": [
      "Propagating batch 240"
     ]
    }
   ],
   "source": [
    "pred_arr = np.empty((num_samples, dims))\n",
    "\n",
    "for i in range(num_samples//batch_size):\n",
    "    if i % 10 == 0:\n",
    "        print('\\rPropagating batch %d' % i, end='', flush=True)\n",
    "    batch = []\n",
    "    for j in range(batch_size):\n",
    "        batch.append(load_img(RESULT_DIR+str(i*batch_size+j)+\".nii.gz\"))\n",
    "    batch = np.stack(batch)\n",
    "    batch = torch.from_numpy(batch[:,None,:,:,:]).float().cuda()\n",
    "    batch = F.interpolate(batch, scale_factor = 2)\n",
    "    with torch.no_grad():\n",
    "        pred = model(batch)\n",
    "\n",
    "    if i*batch_size > pred_arr.shape[0]:\n",
    "        pred_arr[i*batch_size:] = pred.cpu().numpy()\n",
    "    else:\n",
    "        pred_arr[i*batch_size:(i+1)*batch_size] = pred.cpu().numpy()"
   ]
  },
  {
   "cell_type": "code",
   "execution_count": 7,
   "metadata": {},
   "outputs": [],
   "source": [
    "np.save(\"./results/pred_arr_GSP_baseline_PGAN.npy\", pred_arr)"
   ]
  },
  {
   "cell_type": "markdown",
   "metadata": {},
   "source": [
    "## PCA"
   ]
  },
  {
   "cell_type": "code",
   "execution_count": 4,
   "metadata": {},
   "outputs": [],
   "source": [
    "pred_arr_list=[]\n",
    "\n",
    "for model_name in [\"Real\", \"HA_GAN\", \"baseline_Alpha_GAN\", \"baseline_VAEGAN\", \"baseline_PGAN\", \"baseline_WGAN\"]:\n",
    "    pred_arr_list.append(np.load(\"./results/pred_arr_GSP_\"+model_name+\".npy\")[:num_samples, :])\n",
    "\n",
    "pred_arr_list = np.concatenate(pred_arr_list)"
   ]
  },
  {
   "cell_type": "code",
   "execution_count": 5,
   "metadata": {},
   "outputs": [],
   "source": [
    "num_components=10\n",
    "\n",
    "pca = PCA(n_components = num_components)\n",
    "pca.fit(pred_arr_list[:num_samples, :])\n",
    "pred_arr_list_pca=pca.transform(pred_arr_list)"
   ]
  },
  {
   "cell_type": "code",
   "execution_count": 8,
   "metadata": {},
   "outputs": [
    {
     "data": {
      "image/png": "[encoded data removed]",
      "text/plain": [
       "<Figure size 576x576 with 1 Axes>"
      ]
     },
     "metadata": {
      "needs_background": "light"
     },
     "output_type": "display_data"
    }
   ],
   "source": [
    "plt.figure(figsize=(8,8))\n",
    "plt.bar(range(num_components), pca.explained_variance_ratio_)\n",
    "plt.show()"
   ]
  },
  {
   "cell_type": "code",
   "execution_count": 6,
   "metadata": {},
   "outputs": [],
   "source": [
    "def fit_eclipse(x,y):\n",
    "    N = 300\n",
    "    xmean, ymean = x.mean(), y.mean()\n",
    "    x -= xmean\n",
    "    y -= ymean\n",
    "    U, S, V = np.linalg.svd(np.stack((x, y)))\n",
    "\n",
    "    tt = np.linspace(0, 2*np.pi, 1000)\n",
    "    circle = np.stack((np.cos(tt), np.sin(tt)))    # unit circle\n",
    "    transform = np.sqrt(2/N) * U.dot(np.diag(S))   # transformation matrix\n",
    "    fit = transform.dot(circle) + np.array([[xmean], [ymean]])\n",
    "    return fit\n",
    "    plt.plot(fit[0, :], fit[1, :], 'r')"
   ]
  },
  {
   "cell_type": "code",
   "execution_count": 9,
   "metadata": {},
   "outputs": [
    {
     "data": {
      "image/png": "[encoded data removed]",
      "text/plain": [
       "<Figure size 576x576 with 1 Axes>"
      ]
     },
     "metadata": {
      "needs_background": "light"
     },
     "output_type": "display_data"
    }
   ],
   "source": [
    "colors = ['tab:red', 'tab:orange', 'tab:green', 'tab:blue', 'tab:cyan', 'tab:purple']\n",
    "models = [\"Real\", \"HA-GAN\", \"Alpha GAN\", \"VAE-GAN\", \"Progressive GAN\", \"WGAN\"]\n",
    "\n",
    "fig, ax = plt.subplots(figsize=(8, 8))\n",
    "\n",
    "for i in range(6):\n",
    "    ax.scatter(pred_arr_list_pca[num_samples*i:num_samples*(i+1),0], pred_arr_list_pca[num_samples*i:num_samples*(i+1),1],\n",
    "               c=colors[i], s=10, label=models[i],\n",
    "               alpha=1, edgecolors='none')\n",
    "    fit = fit_eclipse(pred_arr_list_pca[num_samples*i:num_samples*(i+1),0].copy(),\\\n",
    "                      pred_arr_list_pca[num_samples*i:num_samples*(i+1),1].copy())\n",
    "    ax.scatter(fit[0, :], fit[1, :], c=colors[i], s=2, alpha=0.2)\n",
    "\n",
    "ax.legend()\n",
    "#ax.grid(True)\n",
    "\n",
    "plt.xlim(-0.65, 0.4)\n",
    "plt.ylim(-0.38, 0.13)\n",
    "\n",
    "plt.legend(prop={'size': 12}, markerscale=3.)\n",
    "#plt.show()\n",
    "plt.savefig(\"./results/PCA_GSP.pdf\", bbox_inches='tight')"
   ]
  },
  {
   "cell_type": "markdown",
   "metadata": {},
   "source": [
    "## MMD"
   ]
  },
  {
   "cell_type": "code",
   "execution_count": 10,
   "metadata": {},
   "outputs": [],
   "source": [
    "from torch_two_sample.statistics_diff import MMDStatistic\n",
    "import torch\n",
    "\n",
    "mmd = MMDStatistic(num_samples, num_samples)"
   ]
  },
  {
   "cell_type": "code",
   "execution_count": 13,
   "metadata": {},
   "outputs": [
    {
     "name": "stdout",
     "output_type": "stream",
     "text": [
      "Real_train\n",
      "Test statistics: 0.00153191022840643\n",
      "HA_GAN\n",
      "Test statistics: 0.04103153137893556\n",
      "HA_GAN_wo_Encoder\n",
      "Test statistics: 0.07278640810433823\n",
      "baseline_Alpha_GAN\n",
      "Test statistics: 0.4157010212479436\n",
      "baseline_VAEGAN\n",
      "Test statistics: 1.5765381317823641\n",
      "baseline_PGAN\n",
      "Test statistics: 0.3537243611984566\n",
      "baseline_WGAN\n",
      "Test statistics: 0.37692219323692006\n"
     ]
    }
   ],
   "source": [
    "for i, model_name in enumerate([\"Real_train\", \"HA_GAN\", \"HA_GAN_wo_Encoder\", \"baseline_Alpha_GAN\", \"baseline_VAEGAN\", \"baseline_PGAN\", \"baseline_WGAN\"]):\n",
    "    print(model_name)\n",
    "    sample_1 = torch.from_numpy(np.load(\"./results/pred_arr_GSP_Real.npy\"))\n",
    "    sample_2 = torch.from_numpy(np.load(\"./results/pred_arr_GSP_\"+model_name+\".npy\"))\n",
    "\n",
    "    test_statistics, ret_matrix = mmd(sample_1, sample_2, alphas='median', ret_matrix=True)\n",
    "    #p = mmd.pval(ret_matrix.float(), n_permutations=1000)\n",
    "\n",
    "    print(\"Test statistics:\", test_statistics.item())\n",
    "    #print(\"P-value:\", p)"
   ]
  },
  {
   "cell_type": "markdown",
   "metadata": {},
   "source": [
    "## FID"
   ]
  },
  {
   "cell_type": "code",
   "execution_count": 14,
   "metadata": {},
   "outputs": [],
   "source": [
    "from scipy import linalg"
   ]
  },
  {
   "cell_type": "code",
   "execution_count": 15,
   "metadata": {},
   "outputs": [],
   "source": [
    "def calculate_frechet_distance(mu1, sigma1, mu2, sigma2, eps=1e-6):\n",
    "    \"\"\"Numpy implementation of the Frechet Distance.\n",
    "    The Frechet distance between two multivariate Gaussians X_1 ~ N(mu_1, C_1)\n",
    "    and X_2 ~ N(mu_2, C_2) is\n",
    "            d^2 = ||mu_1 - mu_2||^2 + Tr(C_1 + C_2 - 2*sqrt(C_1*C_2)).\n",
    "\n",
    "    Stable version by Dougal J. Sutherland.\n",
    "\n",
    "    Params:\n",
    "    -- mu1   : Numpy array containing the activations of a layer of the\n",
    "               inception net (like returned by the function 'get_predictions')\n",
    "               for generated samples.\n",
    "    -- mu2   : The sample mean over activations, precalculated on an\n",
    "               representative data set.\n",
    "    -- sigma1: The covariance matrix over activations for generated samples.\n",
    "    -- sigma2: The covariance matrix over activations, precalculated on an\n",
    "               representative data set.\n",
    "\n",
    "    Returns:\n",
    "    --   : The Frechet Distance.\n",
    "    \"\"\"\n",
    "\n",
    "    mu1 = np.atleast_1d(mu1)\n",
    "    mu2 = np.atleast_1d(mu2)\n",
    "\n",
    "    sigma1 = np.atleast_2d(sigma1)\n",
    "    sigma2 = np.atleast_2d(sigma2)\n",
    "\n",
    "    assert mu1.shape == mu2.shape, \\\n",
    "        'Training and test mean vectors have different lengths'\n",
    "    assert sigma1.shape == sigma2.shape, \\\n",
    "        'Training and test covariances have different dimensions'\n",
    "\n",
    "    diff = mu1 - mu2\n",
    "\n",
    "    # Product might be almost singular\n",
    "    covmean, _ = linalg.sqrtm(sigma1.dot(sigma2), disp=False)\n",
    "    if not np.isfinite(covmean).all():\n",
    "        msg = ('fid calculation produces singular product; '\n",
    "               'adding %s to diagonal of cov estimates') % eps\n",
    "        print(msg)\n",
    "        offset = np.eye(sigma1.shape[0]) * eps\n",
    "        covmean = linalg.sqrtm((sigma1 + offset).dot(sigma2 + offset))\n",
    "\n",
    "    # Numerical error might give slight imaginary component\n",
    "    if np.iscomplexobj(covmean):\n",
    "        if not np.allclose(np.diagonal(covmean).imag, 0, atol=1e-3):\n",
    "            m = np.max(np.abs(covmean.imag))\n",
    "            raise ValueError('Imaginary component {}'.format(m))\n",
    "        covmean = covmean.real\n",
    "\n",
    "    tr_covmean = np.trace(covmean)\n",
    "\n",
    "    return (diff.dot(diff) + np.trace(sigma1) +\n",
    "            np.trace(sigma2) - 2 * tr_covmean)\n",
    "\n",
    "def post_process(act):\n",
    "    mu = np.mean(act, axis=0)\n",
    "    sigma = np.cov(act, rowvar=False)\n",
    "    return mu, sigma"
   ]
  },
  {
   "cell_type": "code",
   "execution_count": 16,
   "metadata": {},
   "outputs": [],
   "source": [
    "def calculate_fid_fake(args):\n",
    "    act = generate_samples(args)\n",
    "    m2, s2 = post_process(act)\n",
    "    #m2 = np.load(\"./results/fid/m_real_train_GSP_v4data_size_\"+str(args.img_size)+\"_resnet50_v2.npy\")\n",
    "    #s2 = np.load(\"./results/fid/s_real_train_GSP_v4data_size_\"+str(args.img_size)+\"_resnet50_v2.npy\")\n",
    "\n",
    "    m1 = np.load(\"./results/fid/m_real_\"+args.real_suffix+\".npy\")\n",
    "    s1 = np.load(\"./results/fid/s_real_\"+args.real_suffix+\".npy\")\n",
    "\n",
    "    fid_value = calculate_frechet_distance(m1, s1, m2, s2)\n",
    "    print('FID: ', fid_value)"
   ]
  },
  {
   "cell_type": "code",
   "execution_count": 18,
   "metadata": {},
   "outputs": [
    {
     "name": "stdout",
     "output_type": "stream",
     "text": [
      "Real_train\n",
      "FID:  2.3018945520210388e-05\n",
      "HA_GAN\n",
      "FID:  0.0025957154966777564\n",
      "HA_GAN_wo_Encoder\n",
      "FID:  0.007409581053759107\n",
      "baseline_Alpha_GAN\n",
      "FID:  0.014584517694325767\n",
      "baseline_VAEGAN\n",
      "FID:  0.5061383914065779\n",
      "baseline_PGAN\n",
      "FID:  0.028703499258609565\n",
      "baseline_WGAN\n",
      "FID:  0.01897051181774176\n"
     ]
    }
   ],
   "source": [
    "act_real = np.load(\"./results/pred_arr_GSP_Real_v4data.npy\")\n",
    "m_real, s_real = post_process(act_real)\n",
    "\n",
    "for i, model_name in enumerate([\"Real_train\", \"HA_GAN_80000\", \"HA_GAN_wo_Encoder_78000\", \"baseline_Alpha_GAN_40000\", \"baseline_VAEGAN_78000\", \"baseline_PGAN\", \"baseline_WGAN_78000\"]):\n",
    "    print(model_name)\n",
    "    act_test = np.load(\"./results/pred_arr_GSP_\"+model_name+\"_v4data.npy\")\n",
    "    m_test, s_test = post_process(act_test)\n",
    "\n",
    "    fid_value = calculate_frechet_distance(m_real, s_real, m_test, s_test)\n",
    "    print('FID: ', fid_value)"
   ]
  }
 ],
 "metadata": {
  "kernelspec": {
   "display_name": "Python 3",
   "language": "python",
   "name": "python3"
  },
  "language_info": {
   "codemirror_mode": {
    "name": "ipython",
    "version": 3
   },
   "file_extension": ".py",
   "mimetype": "text/x-python",
   "name": "python",
   "nbconvert_exporter": "python",
   "pygments_lexer": "ipython3",
   "version": "3.6.5"
  },
  "toc": {
   "base_numbering": 1,
   "nav_menu": {},
   "number_sections": true,
   "sideBar": true,
   "skip_h1_title": false,
   "title_cell": "Table of Contents",
   "title_sidebar": "Contents",
   "toc_cell": false,
   "toc_position": {},
   "toc_section_display": true,
   "toc_window_display": false
  }
 },
 "nbformat": 4,
 "nbformat_minor": 4
}
